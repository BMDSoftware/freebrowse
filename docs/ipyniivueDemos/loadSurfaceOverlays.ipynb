{
  "metadata": {
    "widgets": {
      "application/vnd.jupyter.widget-state+json": {
        "state": {},
        "version_major": 2,
        "version_minor": 0
      }
    },
    "kernelspec": {
      "name": "python",
      "display_name": "Python (Pyodide)",
      "language": "python"
    },
    "language_info": {
      "codemirror_mode": {
        "name": "python",
        "version": 3
      },
      "file_extension": ".py",
      "mimetype": "text/x-python",
      "name": "python",
      "nbconvert_exporter": "python",
      "pygments_lexer": "ipython3",
      "version": "3.8"
    }
  },
  "nbformat_minor": 4,
  "nbformat": 4,
  "cells": [
    {
      "cell_type": "markdown",
      "source": "# Introduction",
      "metadata": {}
    },
    {
      "cell_type": "code",
      "source": "%pip install ipyniivue\nimport ipyniivue\nimport json",
      "metadata": {
        "trusted": true
      },
      "execution_count": 3,
      "outputs": []
    },
    {
      "cell_type": "code",
      "source": "# Create a Niivue object\nnv = ipyniivue.Niivue(back_color=[1, 1, 1, 1], is_slice_MM=False, multiplanar_force_render=True)\n\n# Load a volume and add it to the Niivue object for visualization.\nnv.add_volume('https://niivue.github.io/niivue/images/mni152.nii.gz')\n\n# Load meshes and add them to the Niivue object for visualization.\n# The mesh data consists of layers, where each layer is defined by a name, URL, and RGBA color values.\nnv.load_meshes([{\n    \"url\": \"https://niivue.github.io/niivue/images/BrainMesh_ICBM152.lh.mz3\",\n    \"layers\": [{\n        \"name\": \"BrainMesh_ICBM152.lh.motor.mz3\",\n        \"url\": \"https://niivue.github.io/niivue/images/BrainMesh_ICBM152.lh.motor.mz3\"\n    }]\n}])\n\n# Set a clip plane to slice the volume data for visualization purposes.\n# The clip plane is defined by three values: [x, y, z].\n# In this case, the clip plane is set at x = -0.1, y = 270, and z = 0.\nnv.set_clip_plane([-0.1, 270, 0])\nnv",
      "metadata": {
        "trusted": true
      },
      "execution_count": 13,
      "outputs": [
        {
          "execution_count": 13,
          "output_type": "execute_result",
          "data": {
            "text/plain": "ipyniivue.Niivue(back_color=[1.0, 1.0, 1.0, 1.0], clip_plane_color=[1.0, 1.0, 1.0, 0.5], crosshair_color=[1.0,…",
            "application/vnd.jupyter.widget-view+json": {
              "version_major": 2,
              "version_minor": 0,
              "model_id": "0e01aa5fb4234067bf3b5b6c12b9a405"
            }
          },
          "metadata": {}
        }
      ]
    },
    {
      "cell_type": "code",
      "source": "",
      "metadata": {},
      "execution_count": null,
      "outputs": []
    }
  ]
}