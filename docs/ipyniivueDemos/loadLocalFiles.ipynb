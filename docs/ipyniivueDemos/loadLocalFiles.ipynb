{
  "metadata": {
    "widgets": {
      "application/vnd.jupyter.widget-state+json": {
        "state": {},
        "version_major": 2,
        "version_minor": 0
      }
    },
    "kernelspec": {
      "name": "python",
      "display_name": "Python (Pyodide)",
      "language": "python"
    },
    "language_info": {
      "codemirror_mode": {
        "name": "python",
        "version": 3
      },
      "file_extension": ".py",
      "mimetype": "text/x-python",
      "name": "python",
      "nbconvert_exporter": "python",
      "pygments_lexer": "ipython3",
      "version": "3.8"
    }
  },
  "nbformat_minor": 5,
  "nbformat": 4,
  "cells": [
    {
      "cell_type": "code",
      "source": "%pip install ipyniivue\nimport ipyniivue\n\n%pip install nibabel\nimport nibabel",
      "metadata": {
        "tags": [],
        "trusted": true
      },
      "execution_count": 1,
      "outputs": [],
      "id": "2f37c304-0bb5-4dca-8c42-6831d2f87b7b"
    },
    {
      "cell_type": "code",
      "source": "nib = nibabel.load('./demo_images/mni152.nii.gz')\n\nnv = ipyniivue.Niivue(crosshair_color=[1,1,1,1])\nnv.add_object(nib)\n\nnv.load_meshes([{\"url\": \"https://niivue.github.io/niivue/images/BrainMesh_ICBM152.lh.mz3\", \"layers\": [{\"name\": \"BrainMesh_ICBM152.lh.motor.mz3\" , \"url\": \"https://niivue.github.io/niivue/images/BrainMesh_ICBM152.lh.motor.mz3\", \"rgba255\": [0, 142, 0, 255]}]}])\nnv.set_clip_plane([-0.1, 270, 0])\n\nnv",
      "metadata": {
        "tags": [],
        "trusted": true
      },
      "execution_count": 7,
      "outputs": [
        {
          "execution_count": 7,
          "output_type": "execute_result",
          "data": {
            "text/plain": "ipyniivue.Niivue(back_color=[0.0, 0.0, 0.0, 1.0], clip_plane_color=[1.0, 1.0, 1.0, 0.5], crosshair_color=[1.0,…",
            "application/vnd.jupyter.widget-view+json": {
              "version_major": 2,
              "version_minor": 0,
              "model_id": "3ee1f53198d1491c9dd536d9164a0a84"
            }
          },
          "metadata": {}
        }
      ],
      "id": "730697dc-a332-4649-955f-0b9639548a09"
    },
    {
      "cell_type": "code",
      "source": "",
      "metadata": {},
      "execution_count": null,
      "outputs": [],
      "id": "3dbbbdbf-6766-4b91-81eb-6f251a300448"
    }
  ]
}